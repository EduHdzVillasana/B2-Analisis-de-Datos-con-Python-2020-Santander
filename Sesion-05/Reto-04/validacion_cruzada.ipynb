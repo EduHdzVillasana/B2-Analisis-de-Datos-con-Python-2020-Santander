{
  "nbformat": 4,
  "nbformat_minor": 0,
  "metadata": {
    "kernelspec": {
      "display_name": "Python (data_science)",
      "language": "python",
      "name": "data_science"
    },
    "language_info": {
      "codemirror_mode": {
        "name": "ipython",
        "version": 3
      },
      "file_extension": ".py",
      "mimetype": "text/x-python",
      "name": "python",
      "nbconvert_exporter": "python",
      "pygments_lexer": "ipython3",
      "version": "3.8.5"
    },
    "colab": {
      "name": "validacion_cruzada.ipynb",
      "provenance": []
    }
  },
  "cells": [
    {
      "cell_type": "markdown",
      "metadata": {
        "id": "AmAM3egPRUpR"
      },
      "source": [
        "## Reto 4: Validación Cruzada\n",
        "\n",
        "### 1. Objetivos:\n",
        "    - Aplicar la técnica de validación cruzada para evaluar un modelo de Regresión Lineal Múltiple\n",
        " \n",
        "---\n",
        "    \n",
        "### 2. Desarrollo:"
      ]
    },
    {
      "cell_type": "markdown",
      "metadata": {
        "id": "WXfdRyS8RUpY"
      },
      "source": [
        "Para este Reto vamos a utilizar el mismo dataset que en el Reto anterior. Elige las variables con las que obtuviste un mejor resultado. Utilizando esas variables realiza los siguientes procesos:\n",
        "\n",
        "1. Entrena un modelo de Regresión Lineal Múltiple utilizando validación cruzada de K-iteraciones.\n",
        "2. Obtén el promedio de tus scores y el nivel de incertidumbre.\n",
        "3. Compara tu resultado con el resultado obtenido en el Reto anterior.\n",
        "4. Comparte tus hallazgos con tus compañeros."
      ]
    },
    {
      "cell_type": "code",
      "metadata": {
        "id": "ZJScmtR1RUpZ"
      },
      "source": [
        "import pandas as pd\n",
        "import matplotlib.pyplot as plt\n",
        "import seaborn as sns\n",
        "import os"
      ],
      "execution_count": 1,
      "outputs": []
    },
    {
      "cell_type": "code",
      "metadata": {
        "id": "f6t-wMpHZ9yP",
        "outputId": "0e9bbdd6-f40f-4772-9fc2-e419eb1a6e68",
        "colab": {
          "base_uri": "https://localhost:8080/",
          "height": 194
        }
      },
      "source": [
        "mainpath = \"https://raw.githubusercontent.com/EduHdzVillasana/B2-Analisis-de-Datos-con-Python-2020-Santander/main/Datasets\"\n",
        "filename = \"wine_quality_red-clean.csv\"\n",
        "df = pd.read_csv(os.path.join(mainpath,filename), index_col= 0)\n",
        "\n",
        "df.head()"
      ],
      "execution_count": 2,
      "outputs": [
        {
          "output_type": "execute_result",
          "data": {
            "text/html": [
              "<div>\n",
              "<style scoped>\n",
              "    .dataframe tbody tr th:only-of-type {\n",
              "        vertical-align: middle;\n",
              "    }\n",
              "\n",
              "    .dataframe tbody tr th {\n",
              "        vertical-align: top;\n",
              "    }\n",
              "\n",
              "    .dataframe thead th {\n",
              "        text-align: right;\n",
              "    }\n",
              "</style>\n",
              "<table border=\"1\" class=\"dataframe\">\n",
              "  <thead>\n",
              "    <tr style=\"text-align: right;\">\n",
              "      <th></th>\n",
              "      <th>fixed_acidity</th>\n",
              "      <th>volatile_acidity</th>\n",
              "      <th>citric_acid</th>\n",
              "      <th>residual_sugar</th>\n",
              "      <th>chlorides</th>\n",
              "      <th>free_sulfur_dioxide</th>\n",
              "      <th>total_sulfur_dioxide</th>\n",
              "      <th>density</th>\n",
              "      <th>pH</th>\n",
              "      <th>sulphates</th>\n",
              "      <th>alcohol</th>\n",
              "      <th>quality</th>\n",
              "    </tr>\n",
              "  </thead>\n",
              "  <tbody>\n",
              "    <tr>\n",
              "      <th>0</th>\n",
              "      <td>7.4</td>\n",
              "      <td>0.70</td>\n",
              "      <td>0.00</td>\n",
              "      <td>1.9</td>\n",
              "      <td>0.076</td>\n",
              "      <td>11.0</td>\n",
              "      <td>34.0</td>\n",
              "      <td>0.9978</td>\n",
              "      <td>3.51</td>\n",
              "      <td>0.56</td>\n",
              "      <td>9.4</td>\n",
              "      <td>5</td>\n",
              "    </tr>\n",
              "    <tr>\n",
              "      <th>1</th>\n",
              "      <td>7.8</td>\n",
              "      <td>0.88</td>\n",
              "      <td>0.00</td>\n",
              "      <td>2.6</td>\n",
              "      <td>0.098</td>\n",
              "      <td>25.0</td>\n",
              "      <td>67.0</td>\n",
              "      <td>0.9968</td>\n",
              "      <td>3.20</td>\n",
              "      <td>0.68</td>\n",
              "      <td>9.8</td>\n",
              "      <td>5</td>\n",
              "    </tr>\n",
              "    <tr>\n",
              "      <th>2</th>\n",
              "      <td>7.8</td>\n",
              "      <td>0.76</td>\n",
              "      <td>0.04</td>\n",
              "      <td>2.3</td>\n",
              "      <td>0.092</td>\n",
              "      <td>15.0</td>\n",
              "      <td>54.0</td>\n",
              "      <td>0.9970</td>\n",
              "      <td>3.26</td>\n",
              "      <td>0.65</td>\n",
              "      <td>9.8</td>\n",
              "      <td>5</td>\n",
              "    </tr>\n",
              "    <tr>\n",
              "      <th>3</th>\n",
              "      <td>11.2</td>\n",
              "      <td>0.28</td>\n",
              "      <td>0.56</td>\n",
              "      <td>1.9</td>\n",
              "      <td>0.075</td>\n",
              "      <td>17.0</td>\n",
              "      <td>60.0</td>\n",
              "      <td>0.9980</td>\n",
              "      <td>3.16</td>\n",
              "      <td>0.58</td>\n",
              "      <td>9.8</td>\n",
              "      <td>6</td>\n",
              "    </tr>\n",
              "    <tr>\n",
              "      <th>4</th>\n",
              "      <td>7.4</td>\n",
              "      <td>0.70</td>\n",
              "      <td>0.00</td>\n",
              "      <td>1.9</td>\n",
              "      <td>0.076</td>\n",
              "      <td>11.0</td>\n",
              "      <td>34.0</td>\n",
              "      <td>0.9978</td>\n",
              "      <td>3.51</td>\n",
              "      <td>0.56</td>\n",
              "      <td>9.4</td>\n",
              "      <td>5</td>\n",
              "    </tr>\n",
              "  </tbody>\n",
              "</table>\n",
              "</div>"
            ],
            "text/plain": [
              "   fixed_acidity  volatile_acidity  citric_acid  ...  sulphates  alcohol  quality\n",
              "0            7.4              0.70         0.00  ...       0.56      9.4        5\n",
              "1            7.8              0.88         0.00  ...       0.68      9.8        5\n",
              "2            7.8              0.76         0.04  ...       0.65      9.8        5\n",
              "3           11.2              0.28         0.56  ...       0.58      9.8        6\n",
              "4            7.4              0.70         0.00  ...       0.56      9.4        5\n",
              "\n",
              "[5 rows x 12 columns]"
            ]
          },
          "metadata": {
            "tags": []
          },
          "execution_count": 2
        }
      ]
    },
    {
      "cell_type": "code",
      "metadata": {
        "id": "9Mo9Jah9aAEc"
      },
      "source": [
        "variables_independientes = [\"citric_acid\",\"density\"]\n",
        "variable_dependiente = \"fixed_acidity\""
      ],
      "execution_count": 3,
      "outputs": []
    },
    {
      "cell_type": "code",
      "metadata": {
        "id": "S9qQi94SaDvg"
      },
      "source": [
        "def summary(data):\n",
        "  minimo = data.min()\n",
        "  Q1 = data.quantile(0.25)\n",
        "  median = data.median()\n",
        "  mean = data.mean()\n",
        "  Q2 = data.quantile(0.5)\n",
        "  Q3 = data.quantile(0.75)\n",
        "  maximo = data.max()\n",
        "  IQR = Q3 - Q1\n",
        "  resumen = {'minimo': minimo, 'Q1': Q1, 'mediana':median,'Q2':Q2,'Q3':Q3,'max':maximo,'IQR':IQR, 'media':mean}\n",
        "  return resumen"
      ],
      "execution_count": 4,
      "outputs": []
    },
    {
      "cell_type": "code",
      "metadata": {
        "id": "VYr36Cf3aFNt",
        "outputId": "d307088c-11f8-4dc1-91c4-3a41dedcd0ac",
        "colab": {
          "base_uri": "https://localhost:8080/"
        }
      },
      "source": [
        "summary_dict = summary(df[variables_independientes[1]])\n",
        "summary_dict"
      ],
      "execution_count": 6,
      "outputs": [
        {
          "output_type": "execute_result",
          "data": {
            "text/plain": [
              "{'IQR': 0.002234999999999876,\n",
              " 'Q1': 0.9956,\n",
              " 'Q2': 0.99675,\n",
              " 'Q3': 0.9978349999999999,\n",
              " 'max': 1.00369,\n",
              " 'media': 0.9967466791744833,\n",
              " 'mediana': 0.99675,\n",
              " 'minimo': 0.9900700000000001}"
            ]
          },
          "metadata": {
            "tags": []
          },
          "execution_count": 6
        }
      ]
    },
    {
      "cell_type": "code",
      "metadata": {
        "id": "Cq5RDTBzaHEd"
      },
      "source": [
        "IQR = summary_dict[\"IQR\"]\n",
        "Q1 = summary_dict[\"Q1\"]\n",
        "Q3 = summary_dict[\"Q3\"]\n",
        "df = df[(df[\"density\"] > Q1 - 1.5*IQR ) & (df[\"density\"] < Q3 + 1.5*IQR )]"
      ],
      "execution_count": 7,
      "outputs": []
    },
    {
      "cell_type": "code",
      "metadata": {
        "id": "No-cup3ZaMAK",
        "outputId": "b4edc275-b781-4b60-9c73-4af8a1a46352",
        "colab": {
          "base_uri": "https://localhost:8080/"
        }
      },
      "source": [
        "summary_dict = summary(df[variable_dependiente])\n",
        "summary_dict"
      ],
      "execution_count": 8,
      "outputs": [
        {
          "output_type": "execute_result",
          "data": {
            "text/plain": [
              "{'IQR': 2.0749999999999993,\n",
              " 'Q1': 7.1,\n",
              " 'Q2': 7.9,\n",
              " 'Q3': 9.174999999999999,\n",
              " 'max': 15.9,\n",
              " 'media': 8.291570141570169,\n",
              " 'mediana': 7.9,\n",
              " 'minimo': 4.6}"
            ]
          },
          "metadata": {
            "tags": []
          },
          "execution_count": 8
        }
      ]
    },
    {
      "cell_type": "code",
      "metadata": {
        "id": "I91bhMVMaOHy"
      },
      "source": [
        "IQR = summary_dict[\"IQR\"]\n",
        "Q1 = summary_dict[\"Q1\"]\n",
        "Q3 = summary_dict[\"Q3\"]\n",
        "df = df[(df[variable_dependiente] > Q1 - 1.5*IQR ) & (df[variable_dependiente] < Q3 + 1.5*IQR )]"
      ],
      "execution_count": 9,
      "outputs": []
    },
    {
      "cell_type": "code",
      "metadata": {
        "id": "GFq3FBeyaP6l"
      },
      "source": [
        "X = df[variables_independientes]\n",
        "y = df[variable_dependiente]"
      ],
      "execution_count": 10,
      "outputs": []
    },
    {
      "cell_type": "code",
      "metadata": {
        "id": "hJBlTtLuaXVv"
      },
      "source": [
        "from sklearn.model_selection import cross_validate\n",
        "from sklearn.linear_model import LinearRegression\n",
        "\n",
        "lr = LinearRegression()"
      ],
      "execution_count": 11,
      "outputs": []
    },
    {
      "cell_type": "code",
      "metadata": {
        "id": "Ux140XEIaY-D"
      },
      "source": [
        "scores = cross_validate(lr, X, y, scoring='r2')"
      ],
      "execution_count": 12,
      "outputs": []
    },
    {
      "cell_type": "code",
      "metadata": {
        "id": "Ygby2uL3aa5M",
        "outputId": "47020920-08ac-4df2-d9de-2aaa404a55a9",
        "colab": {
          "base_uri": "https://localhost:8080/"
        }
      },
      "source": [
        "scores"
      ],
      "execution_count": 13,
      "outputs": [
        {
          "output_type": "execute_result",
          "data": {
            "text/plain": [
              "{'fit_time': array([0.02491307, 0.00253773, 0.00235128, 0.00236821, 0.00199008]),\n",
              " 'score_time': array([0.00159502, 0.00139403, 0.00152636, 0.00140691, 0.00113153]),\n",
              " 'test_score': array([0.41121081, 0.59026741, 0.49956262, 0.44678339, 0.16407308])}"
            ]
          },
          "metadata": {
            "tags": []
          },
          "execution_count": 13
        }
      ]
    },
    {
      "cell_type": "code",
      "metadata": {
        "id": "didzMIRtacVE",
        "outputId": "0ab0be3d-8f27-4076-b645-e08e667239b9",
        "colab": {
          "base_uri": "https://localhost:8080/"
        }
      },
      "source": [
        "print(f'Score del modelo: {scores[\"test_score\"].mean():.3f} +/- {scores[\"test_score\"].std():.3f}')"
      ],
      "execution_count": 14,
      "outputs": [
        {
          "output_type": "stream",
          "text": [
            "Score del modelo: 0.422 +/- 0.143\n"
          ],
          "name": "stdout"
        }
      ]
    },
    {
      "cell_type": "code",
      "metadata": {
        "id": "9csCBze6ad3d"
      },
      "source": [
        ""
      ],
      "execution_count": null,
      "outputs": []
    }
  ]
}