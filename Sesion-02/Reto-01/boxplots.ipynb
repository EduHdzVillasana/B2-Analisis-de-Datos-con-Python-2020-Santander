{
  "nbformat": 4,
  "nbformat_minor": 0,
  "metadata": {
    "kernelspec": {
      "display_name": "Python (data_science)",
      "language": "python",
      "name": "data_science"
    },
    "language_info": {
      "codemirror_mode": {
        "name": "ipython",
        "version": 3
      },
      "file_extension": ".py",
      "mimetype": "text/x-python",
      "name": "python",
      "nbconvert_exporter": "python",
      "pygments_lexer": "ipython3",
      "version": "3.8.5"
    },
    "colab": {
      "name": "boxplots.ipynb",
      "provenance": []
    }
  },
  "cells": [
    {
      "cell_type": "markdown",
      "metadata": {
        "id": "jESwflzA3aLC"
      },
      "source": [
        "## Reto 1: Boxplots\n",
        "\n",
        "### 1. Objetivos:\n",
        "    - Aprender a graficar e interpretar boxplots utilizando Seaborn\n",
        "    - Aprender a lidiar con valores atípicos usando IQR-Score\n",
        " \n",
        "---\n",
        "    \n",
        "### 2. Desarrollo:"
      ]
    },
    {
      "cell_type": "markdown",
      "metadata": {
        "id": "w2BnbBTO3aLH"
      },
      "source": [
        "#### a) Usando boxplots para analizar la distribución de nuestros datos\n",
        "\n",
        "Vamos a hacer algunas gráficas de boxplot y describirlas en equipo. Usa Seaborn para generar gráficas boxplot de los siguientes datasets y columnas:\n",
        "\n",
        "1. Dataset: 'near_earth_objects-jan_feb_1995-clean.csv'\n",
        "    - Columnas a graficar: 'estimated_diameter.meters.estimated_diameter_max' y 'relative_velocity.kilometers_per_second'\n",
        "2. Dataset: 'new_york_times_bestsellers-clean.json'\n",
        "    - Columnas a graficar: 'price.numberDouble'\n",
        "3. Dataset: 'melbourne_housing-clean.csv'\n",
        "    - Columnas a graficar: 'land_size'\n",
        "    \n",
        "> Para conocer más detalles acerca de estos datasets, ve a Datasets/Readme.md y visita los links de las fuentes de donde provienen. Es una gran idea hacer esto para que entiendas el contexto alrededor de los análisis que vamos a estar realizando.\n",
        "    \n",
        "Realiza estas 4 visualizaciones y comenta con la experta y tus compañeros qué conclusiones o hipótesis podemos hacer sobre nuestros datos. Para profundizar en el análisis puedes obtener también el rango, la mediana, el valor mínimo y máximo, el percentil 25 y el percentil 75. De esta manera tendrás valores concretos con los que realizar tu análisis."
      ]
    },
    {
      "cell_type": "code",
      "metadata": {
        "id": "4NmtRLZ23aLI"
      },
      "source": [
        "# Tu código va aquí\n",
        "import seaborn as sns\n",
        "import matplotlib.pyplot as plt\n",
        "import pandas as pd\n",
        "import os"
      ],
      "execution_count": 1,
      "outputs": []
    },
    {
      "cell_type": "code",
      "metadata": {
        "id": "YHQ6fEQ-3pfo"
      },
      "source": [
        "mainpath = \"https://raw.githubusercontent.com/EduHdzVillasana/B2-Analisis-de-Datos-con-Python-2020-Santander/main/Datasets\"\n",
        "df_nasa = pd.read_csv(os.path.join(mainpath,\"near_earth_objects-jan_feb_1995-clean.csv\"), index_col=0)\n",
        "df_new_york = pd.read_json(os.path.join(mainpath,\"new_york_times_bestsellers-clean.json\"))\n",
        "df_melbourne = pd.read_csv(os.path.join(mainpath,\"melbourne_housing-clean.csv\"), index_col=0)"
      ],
      "execution_count": 30,
      "outputs": []
    },
    {
      "cell_type": "code",
      "metadata": {
        "id": "Wo4ioNrs5iVa"
      },
      "source": [
        "def summary(data):\n",
        "  minimo = data.min()\n",
        "  Q1 = data.quantile(0.25)\n",
        "  median = data.median()\n",
        "  mean = data.mean()\n",
        "  Q2 = data.quantile(0.5)\n",
        "  Q3 = data.quantile(0.75)\n",
        "  maximo = data.max()\n",
        "  IQR = Q3 - Q1\n",
        "  resumen = {'minimo': minimo, 'Q1': Q1, 'mediana':median,'Q2':Q2,'Q3':Q3,'max':maximo,'IQR':IQR, 'media':mean}\n",
        "  return resumen"
      ],
      "execution_count": 8,
      "outputs": []
    },
    {
      "cell_type": "code",
      "metadata": {
        "id": "ksIuIoq_5YOp",
        "outputId": "b916569c-b3c7-4e50-d965-75ca5cb0f6ef",
        "colab": {
          "base_uri": "https://localhost:8080/",
          "height": 285
        }
      },
      "source": [
        "# NASA estimated_diameter.meters.estimated_diameter_max\n",
        "\n",
        "sns.set(style=\"whitegrid\")\n",
        "sns.boxplot(x=df_nasa[\"estimated_diameter.meters.estimated_diameter_max\"]);\n"
      ],
      "execution_count": 10,
      "outputs": [
        {
          "output_type": "display_data",
          "data": {
            "image/png": "[encoded data removed]",
            "text/plain": [
              "<Figure size 432x288 with 1 Axes>"
            ]
          },
          "metadata": {
            "tags": []
          }
        }
      ]
    },
    {
      "cell_type": "code",
      "metadata": {
        "id": "s8zOy2re5-zK",
        "outputId": "9af77a88-1681-418a-c68d-11a54635a068",
        "colab": {
          "base_uri": "https://localhost:8080/"
        }
      },
      "source": [
        "a = summary(df_nasa[\"estimated_diameter.meters.estimated_diameter_max\"])\n",
        "IQR_nasa_1 = a[\"IQR\"]\n",
        "Q1_nasa_1 = a[\"Q1\"]\n",
        "Q3_nasa_1 = a[\"Q3\"]\n",
        "a"
      ],
      "execution_count": 23,
      "outputs": [
        {
          "output_type": "execute_result",
          "data": {
            "text/plain": [
              "{'IQR': 455.41872486110003,\n",
              " 'Q1': 62.2357573367,\n",
              " 'Q2': 215.7943048444,\n",
              " 'Q3': 517.6544821978,\n",
              " 'max': 6516.883821679,\n",
              " 'media': 410.0860422397653,\n",
              " 'mediana': 215.7943048444,\n",
              " 'minimo': 2.978790628}"
            ]
          },
          "metadata": {
            "tags": []
          },
          "execution_count": 23
        }
      ]
    },
    {
      "cell_type": "code",
      "metadata": {
        "id": "J27s_Xo_6ST8",
        "outputId": "848303a2-5f20-414e-9bb9-f3f7891e4c7e",
        "colab": {
          "base_uri": "https://localhost:8080/",
          "height": 285
        }
      },
      "source": [
        "# NASA relative_velocity.kilometers_per_second\n",
        "\n",
        "sns.set(style=\"whitegrid\")\n",
        "sns.boxplot(x=df_nasa[\"relative_velocity.kilometers_per_second\"]);"
      ],
      "execution_count": 13,
      "outputs": [
        {
          "output_type": "display_data",
          "data": {
            "image/png": "[encoded data removed]",
            "text/plain": [
              "<Figure size 432x288 with 1 Axes>"
            ]
          },
          "metadata": {
            "tags": []
          }
        }
      ]
    },
    {
      "cell_type": "code",
      "metadata": {
        "id": "izgfXWtl6cHw",
        "outputId": "9de38354-4b34-4a13-93c6-947a352e3786",
        "colab": {
          "base_uri": "https://localhost:8080/"
        }
      },
      "source": [
        "a = summary(df_nasa[\"relative_velocity.kilometers_per_second\"])\n",
        "IQR_nasa_2 = a[\"IQR\"]\n",
        "Q1_nasa_2 = a[\"Q1\"]\n",
        "Q3_nasa_2 = a[\"Q3\"]\n",
        "a"
      ],
      "execution_count": 24,
      "outputs": [
        {
          "output_type": "execute_result",
          "data": {
            "text/plain": [
              "{'IQR': 10.1831033325,\n",
              " 'Q1': 8.599442511900001,\n",
              " 'Q2': 14.257165835699999,\n",
              " 'Q3': 18.7825458444,\n",
              " 'max': 40.5274283635,\n",
              " 'media': 14.98422791317087,\n",
              " 'mediana': 14.257165835699999,\n",
              " 'minimo': 0.681436673}"
            ]
          },
          "metadata": {
            "tags": []
          },
          "execution_count": 24
        }
      ]
    },
    {
      "cell_type": "code",
      "metadata": {
        "id": "5Mn24eyg6qHM",
        "outputId": "865bd0fd-1145-42ac-c720-536a97d6944f",
        "colab": {
          "base_uri": "https://localhost:8080/",
          "height": 285
        }
      },
      "source": [
        "# New York price.numberDouble\n",
        "\n",
        "sns.set(style=\"whitegrid\")\n",
        "sns.boxplot(x=df_new_york[\"price.numberDouble\"]);"
      ],
      "execution_count": 17,
      "outputs": [
        {
          "output_type": "display_data",
          "data": {
            "image/png": "[encoded data removed]",
            "text/plain": [
              "<Figure size 432x288 with 1 Axes>"
            ]
          },
          "metadata": {
            "tags": []
          }
        }
      ]
    },
    {
      "cell_type": "code",
      "metadata": {
        "id": "pShMjFJ_658L",
        "outputId": "108ccd7a-852e-44b8-8047-85ca0ab353d2",
        "colab": {
          "base_uri": "https://localhost:8080/"
        }
      },
      "source": [
        "a = summary(df_new_york[\"price.numberDouble\"])\n",
        "IQR_new_york = a[\"IQR\"]\n",
        "Q1_new_york = a[\"Q1\"]\n",
        "Q3_new_york = a[\"Q3\"]\n",
        "a"
      ],
      "execution_count": 25,
      "outputs": [
        {
          "output_type": "execute_result",
          "data": {
            "text/plain": [
              "{'IQR': 2.039999999999999,\n",
              " 'Q1': 25.95,\n",
              " 'Q2': 26.95,\n",
              " 'Q3': 27.99,\n",
              " 'max': 34.99,\n",
              " 'media': 26.8183679525219,\n",
              " 'mediana': 26.95,\n",
              " 'minimo': 14.99}"
            ]
          },
          "metadata": {
            "tags": []
          },
          "execution_count": 25
        }
      ]
    },
    {
      "cell_type": "code",
      "metadata": {
        "id": "CoUbCiKG7GVx",
        "outputId": "609527c7-2c78-4299-a697-64736b7ecb4d",
        "colab": {
          "base_uri": "https://localhost:8080/",
          "height": 285
        }
      },
      "source": [
        "# Melborn land_size\n",
        "\n",
        "sns.set(style=\"whitegrid\")\n",
        "sns.boxplot(x=df_melbourne[\"land_size\"]);"
      ],
      "execution_count": 19,
      "outputs": [
        {
          "output_type": "display_data",
          "data": {
            "image/png": "[encoded data removed]",
            "text/plain": [
              "<Figure size 432x288 with 1 Axes>"
            ]
          },
          "metadata": {
            "tags": []
          }
        }
      ]
    },
    {
      "cell_type": "code",
      "metadata": {
        "id": "1JPngO9C7ZtM",
        "outputId": "d2f30d98-aec3-45d6-ccc2-33522d387b40",
        "colab": {
          "base_uri": "https://localhost:8080/"
        }
      },
      "source": [
        "a = summary(df_melbourne[\"land_size\"])\n",
        "IQR_melbourne = a[\"IQR\"]\n",
        "Q1_melbourne = a[\"Q1\"]\n",
        "Q3_melbourne = a[\"Q3\"]\n",
        "a"
      ],
      "execution_count": 26,
      "outputs": [
        {
          "output_type": "execute_result",
          "data": {
            "text/plain": [
              "{'IQR': 494.0,\n",
              " 'Q1': 162.0,\n",
              " 'Q2': 412.0,\n",
              " 'Q3': 656.0,\n",
              " 'max': 76000.0,\n",
              " 'media': 554.4580972007557,\n",
              " 'mediana': 412.0,\n",
              " 'minimo': 0.0}"
            ]
          },
          "metadata": {
            "tags": []
          },
          "execution_count": 26
        }
      ]
    },
    {
      "cell_type": "markdown",
      "metadata": {
        "id": "NbyzUyH33aLJ"
      },
      "source": [
        "#### b) Eliminando valores atípicos\n",
        "\n",
        "A partir de las visualizaciones que realizaste en el punto anterior, decide en cuáles columnas tenemos valores atípicos que pueden estorbarnos en nuestro análisis. Elimina dichos valores atípicos usando el Score de Rango Intercuartílico. Puedes probar variando un poco la medida del Score (1.5 * IQR) para eliminar solamente los valores que tú consideras como extremos.\n",
        "\n",
        "Para observar los cambios a detalle, obtén la mediana, la media y la desviación estándar de tus datos *antes* y *después* de eliminar los valores atípicos. Compara estos valores y explica qué es lo que está pasando.\n",
        "\n",
        "Grafica de nuevo tus datos sin valores atípicos para compararlos con las gráficas anteriores.\n",
        "\n",
        "Comenta con la experta y tus compañeros tus hallazgos."
      ]
    },
    {
      "cell_type": "code",
      "metadata": {
        "id": "6znBQfR73aLJ"
      },
      "source": [
        "# Tu código va aquí\n",
        "\n",
        "df_nasa = df_nasa[(df_nasa[\"estimated_diameter.meters.estimated_diameter_max\"] <= Q3_nasa_1 + IQR_nasa_1)\n",
        "& (df_nasa[\"estimated_diameter.meters.estimated_diameter_max\"] >= Q1_nasa_1 - IQR_nasa_1)]"
      ],
      "execution_count": 31,
      "outputs": []
    },
    {
      "cell_type": "code",
      "metadata": {
        "id": "p5__Vlyq8-2n"
      },
      "source": [
        "df_nasa = df_nasa[(df_nasa[\"relative_velocity.kilometers_per_second\"] <= Q3_nasa_2 + IQR_nasa_2)\n",
        "& (df_nasa[\"relative_velocity.kilometers_per_second\"] >= Q1_nasa_2 - IQR_nasa_2)]"
      ],
      "execution_count": 32,
      "outputs": []
    },
    {
      "cell_type": "code",
      "metadata": {
        "id": "Fc1atnLx9NH6"
      },
      "source": [
        "df_new_york = df_new_york[(df_new_york[\"price.numberDouble\"] <= Q3_new_york + IQR_new_york)\n",
        "& (df_new_york[\"price.numberDouble\"] >= Q1_new_york - IQR_new_york)]"
      ],
      "execution_count": 33,
      "outputs": []
    },
    {
      "cell_type": "code",
      "metadata": {
        "id": "20bEultj9aDj"
      },
      "source": [
        "df_melbourne = df_melbourne[(df_melbourne[\"land_size\"] <= Q3_melbourne + IQR_melbourne)\n",
        "& (df_melbourne[\"land_size\"] >= Q1_melbourne - IQR_melbourne)]"
      ],
      "execution_count": 34,
      "outputs": []
    },
    {
      "cell_type": "code",
      "metadata": {
        "id": "jojVrdM796-B",
        "outputId": "79450d14-550a-4e50-fcb5-0a869256c29c",
        "colab": {
          "base_uri": "https://localhost:8080/",
          "height": 285
        }
      },
      "source": [
        "sns.set(style=\"whitegrid\")\n",
        "sns.boxplot(x=df_nasa[\"estimated_diameter.meters.estimated_diameter_max\"]);"
      ],
      "execution_count": 35,
      "outputs": [
        {
          "output_type": "display_data",
          "data": {
            "image/png": "[encoded data removed]",
            "text/plain": [
              "<Figure size 432x288 with 1 Axes>"
            ]
          },
          "metadata": {
            "tags": []
          }
        }
      ]
    },
    {
      "cell_type": "code",
      "metadata": {
        "id": "cse_kHa5-AC5",
        "outputId": "1edb7494-b118-4b27-b81f-0b358060f183",
        "colab": {
          "base_uri": "https://localhost:8080/",
          "height": 285
        }
      },
      "source": [
        "sns.set(style=\"whitegrid\")\n",
        "sns.boxplot(x=df_nasa[\"relative_velocity.kilometers_per_second\"]);"
      ],
      "execution_count": 36,
      "outputs": [
        {
          "output_type": "display_data",
          "data": {
            "image/png": "[encoded data removed]",
            "text/plain": [
              "<Figure size 432x288 with 1 Axes>"
            ]
          },
          "metadata": {
            "tags": []
          }
        }
      ]
    },
    {
      "cell_type": "code",
      "metadata": {
        "id": "sooxJLQJ-DrZ",
        "outputId": "268e361f-dcca-49bd-c6b8-7af0c06aa01a",
        "colab": {
          "base_uri": "https://localhost:8080/",
          "height": 285
        }
      },
      "source": [
        "sns.set(style=\"whitegrid\")\n",
        "sns.boxplot(x=df_new_york[\"price.numberDouble\"]);"
      ],
      "execution_count": 37,
      "outputs": [
        {
          "output_type": "display_data",
          "data": {
            "image/png": "[encoded data removed]",
            "text/plain": [
              "<Figure size 432x288 with 1 Axes>"
            ]
          },
          "metadata": {
            "tags": []
          }
        }
      ]
    },
    {
      "cell_type": "code",
      "metadata": {
        "id": "V4IoreS7-D5U",
        "outputId": "bb8db545-99f4-4a54-8e92-6536c5d142e6",
        "colab": {
          "base_uri": "https://localhost:8080/",
          "height": 285
        }
      },
      "source": [
        "sns.set(style=\"whitegrid\")\n",
        "sns.boxplot(x=df_melbourne[\"land_size\"]);"
      ],
      "execution_count": 38,
      "outputs": [
        {
          "output_type": "display_data",
          "data": {
            "image/png": "[encoded data removed]",
            "text/plain": [
              "<Figure size 432x288 with 1 Axes>"
            ]
          },
          "metadata": {
            "tags": []
          }
        }
      ]
    }
  ]
}